{
 "cells": [
  {
   "cell_type": "code",
   "execution_count": 175,
   "metadata": {},
   "outputs": [],
   "source": [
    "import tensorflow as tf\n",
    "from tensorflow.python.keras import backend\n",
    "from tensorflow.python.keras import layers\n",
    "\n",
    "import numpy as np\n"
   ]
  },
  {
   "cell_type": "code",
   "execution_count": 3,
   "metadata": {},
   "outputs": [],
   "source": [
    "# define the arguments\n",
    "cnnd = 1 # define the cnn dimensions\n",
    "input_shape = (300,3) # example of a signal\n",
    "channels_last = True\n",
    "bn_axis = 3 if channels_last else 1"
   ]
  },
  {
   "cell_type": "code",
   "execution_count": 4,
   "metadata": {},
   "outputs": [],
   "source": [
    "input_image = layers.Input(shape=(300,300,3))\n",
    "input_signal = layers.Input(shape=(300,3))\n",
    "\n",
    "image = np.zeros((1,300,300,3), dtype=np.float32)\n",
    "signal = np.zeros((1,300,3), dtype=np.float32)"
   ]
  },
  {
   "cell_type": "markdown",
   "metadata": {},
   "source": [
    "## 1D or 2D Resnet\n",
    "\n",
    "The goal is to use a resnet backbone, but to be able to implement it as a 1d or 2d resnet with the option of regression or classification.\n",
    "\n",
    "Functional approach using keras"
   ]
  },
  {
   "cell_type": "markdown",
   "metadata": {},
   "source": [
    "## Define block layers for 1d, 2d or 3d Conv"
   ]
  },
  {
   "cell_type": "code",
   "execution_count": 168,
   "metadata": {},
   "outputs": [],
   "source": [
    "def block1(x, d, bn_axis, filters, kernel_size=3, \n",
    "           stride=1, conv_shortcut=True, name=None):\n",
    "    \"\"\"A residual block.\n",
    "    \n",
    "    Args:\n",
    "        x: tensor\n",
    "            input tensor.\n",
    "        d: int\n",
    "            dimension of the Conv layers to use\n",
    "        bn_axis: int\n",
    "            axis for batch norm\n",
    "        filters: int\n",
    "            filters of the bottleneck layer.\n",
    "        kernel_size: int\n",
    "            default 3, kernel size of the bottleneck layer.\n",
    "        stride: int\n",
    "            default 1, stride of the first layer.\n",
    "        conv_shortcut: bool \n",
    "            default True, use convolution shortcut if True,\n",
    "            otherwise identity shortcut.\n",
    "        name: string\n",
    "            block label.\n",
    "    Returns:\n",
    "        x: tensor\n",
    "            output tensor for the residual block.\n",
    "    \"\"\"\n",
    "    if d==1:\n",
    "        conv_op = layers.Conv1D\n",
    "    elif d==2:\n",
    "        conv_op = layers.Conv2D\n",
    "    elif d==3:\n",
    "        conv_op = layers.Conv3D\n",
    "    else:\n",
    "        raise ValueError(\"d must be 1, 2, or 3\")\n",
    "    \n",
    "    if conv_shortcut:\n",
    "        shortcut = conv_op(\n",
    "            4 * filters, 1, strides=stride, name=name + '_0_conv')(x)\n",
    "        shortcut = layers.BatchNormalization(\n",
    "            axis=bn_axis, epsilon=1.001e-5, name=name + '_0_bn')(shortcut)\n",
    "    else:\n",
    "        shortcut = x\n",
    "\n",
    "    x = conv_op(filters, 1, strides=stride, name=name + '_1_conv')(x)\n",
    "    x = layers.BatchNormalization(\n",
    "          axis=bn_axis, epsilon=1.001e-5, name=name + '_1_bn')(x)\n",
    "    x = layers.Activation('relu', name=name + '_1_relu')(x)\n",
    "\n",
    "    x = conv_op(\n",
    "          filters, kernel_size, padding='SAME', name=name + '_2_conv')(x)\n",
    "    x = layers.BatchNormalization(\n",
    "          axis=bn_axis, epsilon=1.001e-5, name=name + '_2_bn')(x)\n",
    "    x = layers.Activation('relu', name=name + '_2_relu')(x)\n",
    "\n",
    "    x = conv_op(4 * filters, 1, name=name + '_3_conv')(x)\n",
    "    x = layers.BatchNormalization(\n",
    "          axis=bn_axis, epsilon=1.001e-5, name=name + '_3_bn')(x)\n",
    "\n",
    "    # add the residual\n",
    "    x = layers.Add(name=name + '_add')([shortcut, x])\n",
    "    x = layers.Activation('relu', name=name + '_out')(x)\n",
    "    \n",
    "    return x"
   ]
  },
  {
   "cell_type": "markdown",
   "metadata": {},
   "source": [
    "### Image block test"
   ]
  },
  {
   "cell_type": "code",
   "execution_count": 7,
   "metadata": {},
   "outputs": [],
   "source": [
    "b1 = block1(input_image, d=2, bn_axis=3, filters=2, name='block1')"
   ]
  },
  {
   "cell_type": "code",
   "execution_count": 8,
   "metadata": {},
   "outputs": [],
   "source": [
    "model = tf.keras.Model(input_image, b1)"
   ]
  },
  {
   "cell_type": "code",
   "execution_count": 9,
   "metadata": {},
   "outputs": [],
   "source": [
    "res = model(image)"
   ]
  },
  {
   "cell_type": "code",
   "execution_count": 15,
   "metadata": {},
   "outputs": [
    {
     "data": {
      "text/plain": [
       "(1, 300, 300, 8)"
      ]
     },
     "execution_count": 15,
     "metadata": {},
     "output_type": "execute_result"
    }
   ],
   "source": [
    "res.numpy().shape"
   ]
  },
  {
   "cell_type": "markdown",
   "metadata": {},
   "source": [
    "### Signal block test"
   ]
  },
  {
   "cell_type": "code",
   "execution_count": 16,
   "metadata": {},
   "outputs": [],
   "source": [
    "b1 = block1(input_signal, d=1, bn_axis=2, filters=2, name='block1')"
   ]
  },
  {
   "cell_type": "code",
   "execution_count": 23,
   "metadata": {},
   "outputs": [],
   "source": [
    "model = tf.keras.Model(input_signal, b1)"
   ]
  },
  {
   "cell_type": "code",
   "execution_count": 24,
   "metadata": {},
   "outputs": [],
   "source": [
    "res = model(signal)"
   ]
  },
  {
   "cell_type": "code",
   "execution_count": 19,
   "metadata": {},
   "outputs": [
    {
     "data": {
      "text/plain": [
       "(1, 300, 8)"
      ]
     },
     "execution_count": 19,
     "metadata": {},
     "output_type": "execute_result"
    }
   ],
   "source": [
    "res.numpy().shape"
   ]
  },
  {
   "cell_type": "markdown",
   "metadata": {},
   "source": [
    "## Build Stack"
   ]
  },
  {
   "cell_type": "code",
   "execution_count": 153,
   "metadata": {},
   "outputs": [],
   "source": [
    "def resblock(x, d, bn_axis, filters, blocks, stride1=2, name=None):\n",
    "    \"\"\"A set of stacked residual blocks.\n",
    "    \n",
    "    Arguments:\n",
    "        x: input tensor.\n",
    "        filters: integer, filters of the bottleneck layer in a block.\n",
    "        blocks: integer, blocks in the stacked blocks.\n",
    "        stride1: default 2, stride of the first layer in the first block.\n",
    "        name: string, stack label.\n",
    "    Returns:\n",
    "        Output tensor for the stacked blocks.\n",
    "    \"\"\"\n",
    "    # \n",
    "    x = block1(x, d, bn_axis, filters, stride=stride1, name=name + '_block1')\n",
    "    for i in range(2, blocks + 1):\n",
    "        # no shortcut skips residual add\n",
    "        x = block1(x, d, bn_axis, filters, conv_shortcut=False, name=name + '_block' + str(i))\n",
    "    return x"
   ]
  },
  {
   "cell_type": "markdown",
   "metadata": {},
   "source": [
    "## Stack test image"
   ]
  },
  {
   "cell_type": "code",
   "execution_count": 27,
   "metadata": {},
   "outputs": [],
   "source": [
    "stack = resblock(input_image, d=2, bn_axis=3, \n",
    "               filters=4, blocks=2, name='conv1')\n",
    "model = tf.keras.Model(input_image, stack)"
   ]
  },
  {
   "cell_type": "code",
   "execution_count": 28,
   "metadata": {},
   "outputs": [],
   "source": [
    "res = model(image)"
   ]
  },
  {
   "cell_type": "code",
   "execution_count": 30,
   "metadata": {},
   "outputs": [
    {
     "data": {
      "text/plain": [
       "(1, 150, 150, 16)"
      ]
     },
     "execution_count": 30,
     "metadata": {},
     "output_type": "execute_result"
    }
   ],
   "source": [
    "res.numpy().shape"
   ]
  },
  {
   "cell_type": "markdown",
   "metadata": {},
   "source": [
    "### Stack test signal"
   ]
  },
  {
   "cell_type": "code",
   "execution_count": 31,
   "metadata": {},
   "outputs": [],
   "source": [
    "stack = resblock(input_signal, d=1, bn_axis=2, \n",
    "               filters=4, blocks=2, name='conv1')\n",
    "model = tf.keras.Model(input_signal, stack)"
   ]
  },
  {
   "cell_type": "code",
   "execution_count": 32,
   "metadata": {},
   "outputs": [],
   "source": [
    "res = model(signal)"
   ]
  },
  {
   "cell_type": "code",
   "execution_count": 33,
   "metadata": {},
   "outputs": [
    {
     "data": {
      "text/plain": [
       "(1, 150, 16)"
      ]
     },
     "execution_count": 33,
     "metadata": {},
     "output_type": "execute_result"
    }
   ],
   "source": [
    "res.numpy().shape"
   ]
  },
  {
   "cell_type": "markdown",
   "metadata": {},
   "source": [
    "## Stack Function"
   ]
  },
  {
   "cell_type": "code",
   "execution_count": 154,
   "metadata": {},
   "outputs": [],
   "source": [
    "#defines the resnet50\n",
    "def stack_blocks(x, d, bn_axis, nblocks):\n",
    "    \"\"\"Stacks up the residual network\n",
    "    \n",
    "    Args:\n",
    "        x: tensor\n",
    "            output form previous layer\n",
    "        d: int\n",
    "            inferred dim of conv operators for ndresnet\n",
    "        bn_axis: int\n",
    "            axis for the batch norm\n",
    "        nblocks: list\n",
    "            the list of blocks for each stack\n",
    "    Returns:\n",
    "        x: tensor\n",
    "            the complete stack of residual blocks\n",
    "    \"\"\"\n",
    "    x = resblock(x, d, bn_axis, 64, nblocks[0], stride1=1, name='conv2')\n",
    "    x = resblock(x, d, bn_axis, 128, nblocks[1], name='conv3')\n",
    "    x = resblock(x, d, bn_axis, 256, nblocks[2], name='conv4')\n",
    "    x = resblock(x, d, bn_axis, 512, nblocks[3], name='conv5')\n",
    "    \n",
    "    return x"
   ]
  },
  {
   "cell_type": "markdown",
   "metadata": {},
   "source": [
    "### Stack Function Image Test"
   ]
  },
  {
   "cell_type": "code",
   "execution_count": 40,
   "metadata": {},
   "outputs": [],
   "source": [
    "stack = stack_blocks(input_image, d=2, bn_axis=2)\n",
    "model = tf.keras.Model(input_image, stack)"
   ]
  },
  {
   "cell_type": "code",
   "execution_count": 41,
   "metadata": {},
   "outputs": [],
   "source": [
    "res = model(image)"
   ]
  },
  {
   "cell_type": "code",
   "execution_count": 42,
   "metadata": {},
   "outputs": [
    {
     "data": {
      "text/plain": [
       "(1, 38, 38, 2048)"
      ]
     },
     "execution_count": 42,
     "metadata": {},
     "output_type": "execute_result"
    }
   ],
   "source": [
    "res.numpy().shape"
   ]
  },
  {
   "cell_type": "markdown",
   "metadata": {},
   "source": [
    "### Stack Function Signal Test"
   ]
  },
  {
   "cell_type": "code",
   "execution_count": 43,
   "metadata": {},
   "outputs": [],
   "source": [
    "stack = stack_blocks(input_signal, d=1, bn_axis=2)\n",
    "model = tf.keras.Model(input_signal, stack)"
   ]
  },
  {
   "cell_type": "code",
   "execution_count": 44,
   "metadata": {},
   "outputs": [],
   "source": [
    "res = model(signal)"
   ]
  },
  {
   "cell_type": "code",
   "execution_count": 45,
   "metadata": {},
   "outputs": [
    {
     "data": {
      "text/plain": [
       "(1, 38, 2048)"
      ]
     },
     "execution_count": 45,
     "metadata": {},
     "output_type": "execute_result"
    }
   ],
   "source": [
    "res.numpy().shape"
   ]
  },
  {
   "cell_type": "markdown",
   "metadata": {},
   "source": [
    "# Putting it all together:"
   ]
  },
  {
   "cell_type": "code",
   "execution_count": 114,
   "metadata": {},
   "outputs": [],
   "source": [
    "input_tensor = input_image\n",
    "use_bias=True\n",
    "d = 2\n",
    "bn_axis=3\n",
    "preact = True\n",
    "include_top=True\n",
    "model_name='model_name'\n",
    "n_output = 20"
   ]
  },
  {
   "cell_type": "code",
   "execution_count": 125,
   "metadata": {},
   "outputs": [],
   "source": [
    "y = ((1,2),(1,3),(1,3))"
   ]
  },
  {
   "cell_type": "code",
   "execution_count": 130,
   "metadata": {},
   "outputs": [
    {
     "data": {
      "text/plain": [
       "(1, 3)"
      ]
     },
     "execution_count": 130,
     "metadata": {},
     "output_type": "execute_result"
    }
   ],
   "source": [
    "y[1]"
   ]
  },
  {
   "cell_type": "code",
   "execution_count": 169,
   "metadata": {},
   "outputs": [],
   "source": [
    "def ndResnet(input_tensor, \n",
    "             bn_axis, \n",
    "             n_output,\n",
    "             size,\n",
    "             model_name='model_name', \n",
    "             use_bias=False, \n",
    "             preact = True, \n",
    "             include_top=True):\n",
    "    \"\"\"Constructs a ndResnet where the ResNet is built with a 1D or\n",
    "    2D convolution operator. The 1D is useful for signals that have \n",
    "    shape (batch_size, length, n_channels) and the 2d is useful for\n",
    "    the regular case of 2d signals like images with shape\n",
    "    (batch_size, w, h, c). The 'nd' dim is inferred given input_tensor.\n",
    "    \n",
    "    Most code comes from tensorflow's implementation here:\n",
    "    https://github.com/tensorflow/tensorflow/blob/master/tensorflow/python/keras/applications/resnet.py\n",
    "    \n",
    "    Args:\n",
    "        input_tensor: layers.Input\n",
    "            The input for the model. This is used to infer the \n",
    "            operators used to contstruct the relevant 'nd' model.\n",
    "        bn_axis: int\n",
    "            The axis to use for batch_norm. For signals (1D), specify\n",
    "            the channel axis (2). For images, also specify the channel\n",
    "            axis (this might depend on tensor format; its usually 3)\n",
    "        n_output: int\n",
    "            Number of outputs\n",
    "        size: int\n",
    "            one of {18, 32, 50, 101, 152} to determine with model to build\n",
    "    Returns:\n",
    "        model: tf.keras.Model\n",
    "            The instantiated model\n",
    "    \"\"\"\n",
    "    # infer the dimension of data; drop batch, channel\n",
    "    d = len(input_tensor.shape) - 2\n",
    "\n",
    "    if d==1:\n",
    "        zeropadding = layers.ZeroPadding1D\n",
    "        maxpooling = layers.MaxPool1D\n",
    "        globalavgpooling = layers.GlobalAveragePooling1D\n",
    "        globalmaxpooling = layers.GlobalMaxPooling1D\n",
    "        convop = layers.Conv1D\n",
    "        model_name += \"_1DResNet\"\n",
    "    elif d==2:\n",
    "        zeropadding = layers.ZeroPadding2D\n",
    "        maxpooling = layers.MaxPool2D\n",
    "        globalavgpooling = layers.GlobalAveragePooling2D\n",
    "        globalmaxpooling = layers.GlobalMaxPooling2D\n",
    "        convop = layers.Conv2D\n",
    "        model_name += \"_2DResNet\"\n",
    "    elif d==3:\n",
    "        zeropadding = layers.ZeroPadding3D\n",
    "        maxpooling = layers.MaxPool3D\n",
    "        globalavgpooling = layers.GlobalAveragePooling3D\n",
    "        globalmaxpooling = layers.GlobalMaxPooling3D\n",
    "        convop = layers.Conv3D\n",
    "        model_name += \"_3DResNet\"\n",
    "\n",
    "    else:\n",
    "        raise NotImplementedError(\"ResNet not built for \"\\\n",
    "                                 \"dims > 3\")\n",
    "\n",
    "    padding = ((3, 3), (3, 3), (3, 3))\n",
    "    padding = padding[:d] if d > 1 else padding[1]\n",
    "\n",
    "    x = zeropadding(\n",
    "          padding=padding, name='conv1_pad')(input_tensor)\n",
    "    x = convop(64, 7, strides=2, use_bias=use_bias, name='conv1_conv')(x)\n",
    "\n",
    "    if not preact:\n",
    "        x = layers.BatchNormalization(\n",
    "            axis=bn_axis, epsilon=1.001e-5, name='conv1_bn')(x)\n",
    "        x = layers.Activation('relu', name='conv1_relu')(x)\n",
    "\n",
    "    padding = ((1, 1), (1, 1), (1, 1))\n",
    "    padding = padding[:d] if d > 1 else padding[1]\n",
    "\n",
    "    x = zeropadding(\n",
    "          padding=padding, name='conv1_pad')(input_tensor)\n",
    "    x = maxpooling(3, strides=2, name='pool1_pool')(x)\n",
    "\n",
    "    if size==18:\n",
    "        blocks = [2, 1, 1, 1] #todo: verify\n",
    "    elif size==32:\n",
    "        blocks = [2, 2, 5, 2] #todo: verify\n",
    "    elif size==50:\n",
    "        blocks = [3, 4, 6, 3]\n",
    "    elif size==101:\n",
    "        blocks = [3, 4, 23, 3]\n",
    "    elif size==152:\n",
    "        blocks = [3, 8, 36, 3]\n",
    "    else:\n",
    "        raise NotImplementedError(\n",
    "            \"No Resnet for this size: {}\".format(size))\n",
    "    \n",
    "    # the meat\n",
    "    x = stack_blocks(x, d, bn_axis, blocks)\n",
    "\n",
    "    if preact:\n",
    "        x = layers.BatchNormalization(\n",
    "                axis=bn_axis, epsilon=1.001e-5, name='post_bn')(x)\n",
    "        x = layers.Activation('relu', name='post_relu')(x)\n",
    "\n",
    "    if include_top:\n",
    "        x = globalavgpooling(name='avg_pool')(x)\n",
    "        x = layers.Dense(n_output, activation='softmax', name='probs')(x)\n",
    "    else:\n",
    "        if pooling == 'avg':\n",
    "            x = globalavgpooling(name='avg_pool')(x)\n",
    "        elif pooling == 'max':\n",
    "            x = globalmaxpooling(name='max_pool')(x)\n",
    "\n",
    "    # Create the functional model.\n",
    "    model = tf.keras.Model(input_tensor, x, name=model_name)\n",
    "    \n",
    "    return model"
   ]
  },
  {
   "cell_type": "code",
   "execution_count": 170,
   "metadata": {},
   "outputs": [],
   "source": [
    "signal_resnet = ndResnet(input_signal, \n",
    "             bn_axis=2, \n",
    "             n_output=20,\n",
    "             size=18,\n",
    "             model_name='signal_resnet')"
   ]
  },
  {
   "cell_type": "code",
   "execution_count": 171,
   "metadata": {},
   "outputs": [
    {
     "data": {
      "text/plain": [
       "TensorShape([1, 20])"
      ]
     },
     "execution_count": 171,
     "metadata": {},
     "output_type": "execute_result"
    }
   ],
   "source": [
    "signal_resnet(signal).shape"
   ]
  },
  {
   "cell_type": "code",
   "execution_count": 172,
   "metadata": {},
   "outputs": [],
   "source": [
    "image_resnet = ndResnet(input_image, \n",
    "             bn_axis=3, \n",
    "             n_output=20,\n",
    "             size=18,\n",
    "             model_name='image_resnet')"
   ]
  },
  {
   "cell_type": "code",
   "execution_count": 173,
   "metadata": {},
   "outputs": [
    {
     "data": {
      "text/plain": [
       "TensorShape([1, 20])"
      ]
     },
     "execution_count": 173,
     "metadata": {},
     "output_type": "execute_result"
    }
   ],
   "source": [
    "image_resnet(image).shape"
   ]
  },
  {
   "cell_type": "code",
   "execution_count": 176,
   "metadata": {},
   "outputs": [],
   "source": [
    "from ndResnet import ndResnet"
   ]
  },
  {
   "cell_type": "code",
   "execution_count": 177,
   "metadata": {},
   "outputs": [],
   "source": [
    "signal_resnet = ndResnet(input_signal, \n",
    "             bn_axis=2, \n",
    "             n_output=20,\n",
    "             size=18,\n",
    "             model_name='signal_resnet')"
   ]
  },
  {
   "cell_type": "code",
   "execution_count": 178,
   "metadata": {},
   "outputs": [
    {
     "data": {
      "text/plain": [
       "TensorShape([1, 20])"
      ]
     },
     "execution_count": 178,
     "metadata": {},
     "output_type": "execute_result"
    }
   ],
   "source": [
    "signal_resnet(signal).shape"
   ]
  },
  {
   "cell_type": "code",
   "execution_count": null,
   "metadata": {},
   "outputs": [],
   "source": []
  }
 ],
 "metadata": {
  "kernelspec": {
   "display_name": "Python 3",
   "language": "python",
   "name": "python3"
  },
  "language_info": {
   "codemirror_mode": {
    "name": "ipython",
    "version": 3
   },
   "file_extension": ".py",
   "mimetype": "text/x-python",
   "name": "python",
   "nbconvert_exporter": "python",
   "pygments_lexer": "ipython3",
   "version": "3.7.4"
  }
 },
 "nbformat": 4,
 "nbformat_minor": 4
}
